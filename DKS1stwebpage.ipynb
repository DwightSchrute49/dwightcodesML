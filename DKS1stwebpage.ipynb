{
 "cells": [
  {
   "cell_type": "markdown",
   "id": "8395ea4f-1fe1-4574-afbe-4ca220376bac",
   "metadata": {},
   "source": [
    "# Import Dataset"
   ]
  },
  {
   "cell_type": "markdown",
   "id": "e3c30b2c-e932-4042-816c-d2931fca9aac",
   "metadata": {},
   "source": [
    "We will import datasets here"
   ]
  },
  {
   "cell_type": "markdown",
   "id": "878d8d01-7044-41b8-8a53-ab55b2a52223",
   "metadata": {},
   "source": [
    "# 1.Heading"
   ]
  },
  {
   "cell_type": "markdown",
   "id": "62ad2883-a3e2-4425-b3a1-9acc08974703",
   "metadata": {},
   "source": [
    "## 2.Subheading"
   ]
  },
  {
   "cell_type": "markdown",
   "id": "2dfc2405-b901-4075-9476-c2bee672f2d2",
   "metadata": {},
   "source": [
    "<p style=\"color:red\">DwightKSchrute</p>"
   ]
  },
  {
   "cell_type": "code",
   "execution_count": 1,
   "id": "d521ee26-a851-4300-bc3e-d83384f314a7",
   "metadata": {},
   "outputs": [],
   "source": [
    "# pandas\n",
    "import pandas as pd"
   ]
  },
  {
   "cell_type": "code",
   "execution_count": 3,
   "id": "ccb34f8b-51ae-487e-b8ba-db2db8dc61d7",
   "metadata": {},
   "outputs": [],
   "source": [
    "df = pd.read_csv('web-show 250.csv')"
   ]
  },
  {
   "cell_type": "code",
   "execution_count": 4,
   "id": "b9f1ccd4-fddc-4f69-a6b3-46bba14d32dc",
   "metadata": {},
   "outputs": [
    {
     "data": {
      "text/html": [
       "<div>\n",
       "<style scoped>\n",
       "    .dataframe tbody tr th:only-of-type {\n",
       "        vertical-align: middle;\n",
       "    }\n",
       "\n",
       "    .dataframe tbody tr th {\n",
       "        vertical-align: top;\n",
       "    }\n",
       "\n",
       "    .dataframe thead th {\n",
       "        text-align: right;\n",
       "    }\n",
       "</style>\n",
       "<table border=\"1\" class=\"dataframe\">\n",
       "  <thead>\n",
       "    <tr style=\"text-align: right;\">\n",
       "      <th></th>\n",
       "      <th>Unnamed: 0</th>\n",
       "      <th>names</th>\n",
       "      <th>relese_date</th>\n",
       "      <th>run_time</th>\n",
       "      <th>rating_tag</th>\n",
       "      <th>rating</th>\n",
       "    </tr>\n",
       "  </thead>\n",
       "  <tbody>\n",
       "    <tr>\n",
       "      <th>0</th>\n",
       "      <td>0</td>\n",
       "      <td>1 Breaking Bad</td>\n",
       "      <td>2008–2013</td>\n",
       "      <td>62 eps</td>\n",
       "      <td>TV-MA</td>\n",
       "      <td>9.5</td>\n",
       "    </tr>\n",
       "    <tr>\n",
       "      <th>1</th>\n",
       "      <td>1</td>\n",
       "      <td>2 Planet Earth II</td>\n",
       "      <td>2016</td>\n",
       "      <td>6 eps</td>\n",
       "      <td>TV-G</td>\n",
       "      <td>9.5</td>\n",
       "    </tr>\n",
       "    <tr>\n",
       "      <th>2</th>\n",
       "      <td>2</td>\n",
       "      <td>3 Planet Earth</td>\n",
       "      <td>2006</td>\n",
       "      <td>11 eps</td>\n",
       "      <td>TV-PG</td>\n",
       "      <td>9.4</td>\n",
       "    </tr>\n",
       "    <tr>\n",
       "      <th>3</th>\n",
       "      <td>3</td>\n",
       "      <td>4 Band of Brothers</td>\n",
       "      <td>2001</td>\n",
       "      <td>10 eps</td>\n",
       "      <td>TV-MA</td>\n",
       "      <td>9.4</td>\n",
       "    </tr>\n",
       "    <tr>\n",
       "      <th>4</th>\n",
       "      <td>4</td>\n",
       "      <td>5 Chernobyl</td>\n",
       "      <td>2019</td>\n",
       "      <td>5 eps</td>\n",
       "      <td>TV-MA</td>\n",
       "      <td>9.3</td>\n",
       "    </tr>\n",
       "    <tr>\n",
       "      <th>...</th>\n",
       "      <td>...</td>\n",
       "      <td>...</td>\n",
       "      <td>...</td>\n",
       "      <td>...</td>\n",
       "      <td>...</td>\n",
       "      <td>...</td>\n",
       "    </tr>\n",
       "    <tr>\n",
       "      <th>245</th>\n",
       "      <td>245</td>\n",
       "      <td>21 The Vietnam War</td>\n",
       "      <td>2017</td>\n",
       "      <td>10 eps</td>\n",
       "      <td>TV-MA</td>\n",
       "      <td>9.1</td>\n",
       "    </tr>\n",
       "    <tr>\n",
       "      <th>246</th>\n",
       "      <td>246</td>\n",
       "      <td>22 Sherlock</td>\n",
       "      <td>2010–2017</td>\n",
       "      <td>15 eps</td>\n",
       "      <td>TV-14</td>\n",
       "      <td>9.1</td>\n",
       "    </tr>\n",
       "    <tr>\n",
       "      <th>247</th>\n",
       "      <td>247</td>\n",
       "      <td>23 Attack on Titan</td>\n",
       "      <td>2013–2023</td>\n",
       "      <td>98 eps</td>\n",
       "      <td>TV-MA</td>\n",
       "      <td>9.1</td>\n",
       "    </tr>\n",
       "    <tr>\n",
       "      <th>248</th>\n",
       "      <td>248</td>\n",
       "      <td>24 Batman: The Animated Series</td>\n",
       "      <td>1992–1995</td>\n",
       "      <td>85 eps</td>\n",
       "      <td>TV-PG</td>\n",
       "      <td>9.0</td>\n",
       "    </tr>\n",
       "    <tr>\n",
       "      <th>249</th>\n",
       "      <td>249</td>\n",
       "      <td>25 The Office</td>\n",
       "      <td>2005–2013</td>\n",
       "      <td>188 eps</td>\n",
       "      <td>TV-14</td>\n",
       "      <td>9.0</td>\n",
       "    </tr>\n",
       "  </tbody>\n",
       "</table>\n",
       "<p>250 rows × 6 columns</p>\n",
       "</div>"
      ],
      "text/plain": [
       "     Unnamed: 0                           names relese_date run_time  \\\n",
       "0             0                  1 Breaking Bad   2008–2013   62 eps   \n",
       "1             1               2 Planet Earth II        2016    6 eps   \n",
       "2             2                  3 Planet Earth        2006   11 eps   \n",
       "3             3              4 Band of Brothers        2001   10 eps   \n",
       "4             4                     5 Chernobyl        2019    5 eps   \n",
       "..          ...                             ...         ...      ...   \n",
       "245         245              21 The Vietnam War        2017   10 eps   \n",
       "246         246                     22 Sherlock   2010–2017   15 eps   \n",
       "247         247              23 Attack on Titan   2013–2023   98 eps   \n",
       "248         248  24 Batman: The Animated Series   1992–1995   85 eps   \n",
       "249         249                   25 The Office   2005–2013  188 eps   \n",
       "\n",
       "    rating_tag  rating  \n",
       "0        TV-MA     9.5  \n",
       "1         TV-G     9.5  \n",
       "2        TV-PG     9.4  \n",
       "3        TV-MA     9.4  \n",
       "4        TV-MA     9.3  \n",
       "..         ...     ...  \n",
       "245      TV-MA     9.1  \n",
       "246      TV-14     9.1  \n",
       "247      TV-MA     9.1  \n",
       "248      TV-PG     9.0  \n",
       "249      TV-14     9.0  \n",
       "\n",
       "[250 rows x 6 columns]"
      ]
     },
     "execution_count": 4,
     "metadata": {},
     "output_type": "execute_result"
    }
   ],
   "source": [
    "df"
   ]
  },
  {
   "cell_type": "code",
   "execution_count": null,
   "id": "da4a7457-f0ec-4515-9e9d-87c24904300f",
   "metadata": {},
   "outputs": [],
   "source": []
  }
 ],
 "metadata": {
  "kernelspec": {
   "display_name": "Python 3 (ipykernel)",
   "language": "python",
   "name": "python3"
  },
  "language_info": {
   "codemirror_mode": {
    "name": "ipython",
    "version": 3
   },
   "file_extension": ".py",
   "mimetype": "text/x-python",
   "name": "python",
   "nbconvert_exporter": "python",
   "pygments_lexer": "ipython3",
   "version": "3.12.4"
  }
 },
 "nbformat": 4,
 "nbformat_minor": 5
}
