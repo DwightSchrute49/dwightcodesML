{
 "cells": [
  {
   "cell_type": "code",
   "execution_count": 1,
   "id": "ccb52e97-1a57-46b5-827d-2e48cedc2ec1",
   "metadata": {},
   "outputs": [],
   "source": [
    "import pandas as pd\n",
    "import numpy as np"
   ]
  },
  {
   "cell_type": "code",
   "execution_count": 2,
   "id": "6bef18ec-63ae-478a-a49b-0400864e63a3",
   "metadata": {},
   "outputs": [],
   "source": [
    "file_path = 'parkinsons_disease_data.csv'\n",
    "df = pd.read_csv(file_path)"
   ]
  },
  {
   "cell_type": "code",
   "execution_count": 3,
   "id": "d9e16b57-ae4d-409a-b643-500af45cd227",
   "metadata": {},
   "outputs": [],
   "source": [
    "ndf = df.drop('PatientID', axis='columns')\n",
    "nndf = ndf.drop('EducationLevel', axis='columns')\n",
    "data = nndf.drop('DoctorInCharge', axis='columns')"
   ]
  },
  {
   "cell_type": "code",
   "execution_count": 4,
   "id": "88934b5d-9e8b-4459-b166-673a51d6a3d2",
   "metadata": {},
   "outputs": [],
   "source": [
    "data_array = data.to_numpy()"
   ]
  },
  {
   "cell_type": "code",
   "execution_count": 5,
   "id": "b2aff207-6f76-474c-9684-351c6fc238f7",
   "metadata": {},
   "outputs": [],
   "source": [
    "X = data_array[:, :-1]  # All columns except the last one\n",
    "y = data_array[:, -1]   # Only the last column"
   ]
  },
  {
   "cell_type": "code",
   "execution_count": 41,
   "id": "b6f15422-be3a-44e5-aa1f-45c179ca468e",
   "metadata": {},
   "outputs": [],
   "source": [
    "from sklearn.preprocessing import MinMaxScaler\n",
    "scaler = MinMaxScaler()"
   ]
  },
  {
   "cell_type": "code",
   "execution_count": 42,
   "id": "2b7b27ab-8c6b-48fc-8761-70cffb738053",
   "metadata": {},
   "outputs": [],
   "source": [
    "X_scaled = scaler.fit_transform(X)"
   ]
  },
  {
   "cell_type": "code",
   "execution_count": 43,
   "id": "ec2419ce-b59d-41c7-931d-d10621e94f1e",
   "metadata": {},
   "outputs": [],
   "source": [
    "from sklearn.model_selection import train_test_split\n",
    "X_train, X_test, y_train, y_test = train_test_split(X_scaled,y,test_size=0.2,random_state=42)"
   ]
  },
  {
   "cell_type": "code",
   "execution_count": 44,
   "id": "2bfac041-fef9-48cb-a9df-f6f7607b7d24",
   "metadata": {},
   "outputs": [],
   "source": [
    "import tensorflow\n",
    "from tensorflow import keras\n",
    "from tensorflow.keras import Sequential\n",
    "from tensorflow.keras.layers import Dense, Dropout"
   ]
  },
  {
   "cell_type": "code",
   "execution_count": 45,
   "id": "39bb352b-92f0-45e1-b513-186c1960a76b",
   "metadata": {},
   "outputs": [],
   "source": [
    "model = Sequential()"
   ]
  },
  {
   "cell_type": "code",
   "execution_count": 46,
   "id": "e4eeca53-1c9f-45f2-bcc8-8d7eb165adfb",
   "metadata": {},
   "outputs": [],
   "source": [
    "model.add(Dense(32, input_shape=(31,), activation='relu'))\n",
    "model.add(Dropout(0.2))\n",
    "model.add(Dense(16, activation='relu'))\n",
    "model.add(Dense(1, activation='sigmoid'))"
   ]
  },
  {
   "cell_type": "code",
   "execution_count": 47,
   "id": "f52b6cd1-60e6-43b4-baf9-0583ba407ce1",
   "metadata": {},
   "outputs": [
    {
     "name": "stdout",
     "output_type": "stream",
     "text": [
      "Model: \"sequential_2\"\n",
      "_________________________________________________________________\n",
      " Layer (type)                Output Shape              Param #   \n",
      "=================================================================\n",
      " dense_7 (Dense)             (None, 32)                1024      \n",
      "                                                                 \n",
      " dropout_1 (Dropout)         (None, 32)                0         \n",
      "                                                                 \n",
      " dense_8 (Dense)             (None, 16)                528       \n",
      "                                                                 \n",
      " dense_9 (Dense)             (None, 1)                 17        \n",
      "                                                                 \n",
      "=================================================================\n",
      "Total params: 1569 (6.13 KB)\n",
      "Trainable params: 1569 (6.13 KB)\n",
      "Non-trainable params: 0 (0.00 Byte)\n",
      "_________________________________________________________________\n"
     ]
    }
   ],
   "source": [
    "model.summary()"
   ]
  },
  {
   "cell_type": "code",
   "execution_count": 48,
   "id": "805c1895-0d24-4b87-9266-5c80252c8231",
   "metadata": {},
   "outputs": [],
   "source": [
    "model.compile(loss='binary_crossentropy',optimizer='Adam')"
   ]
  },
  {
   "cell_type": "code",
   "execution_count": 49,
   "id": "98f03688-ecbf-4e6d-a5fe-c1bce7e43884",
   "metadata": {},
   "outputs": [
    {
     "name": "stdout",
     "output_type": "stream",
     "text": [
      "Epoch 1/20\n",
      "43/43 [==============================] - 2s 11ms/step - loss: 0.6757 - val_loss: 0.6675\n",
      "Epoch 2/20\n",
      "43/43 [==============================] - 0s 5ms/step - loss: 0.6441 - val_loss: 0.6459\n",
      "Epoch 3/20\n",
      "43/43 [==============================] - 0s 5ms/step - loss: 0.6134 - val_loss: 0.6187\n",
      "Epoch 4/20\n",
      "43/43 [==============================] - 0s 5ms/step - loss: 0.5841 - val_loss: 0.5806\n",
      "Epoch 5/20\n",
      "43/43 [==============================] - 0s 5ms/step - loss: 0.5510 - val_loss: 0.5456\n",
      "Epoch 6/20\n",
      "43/43 [==============================] - 0s 5ms/step - loss: 0.5179 - val_loss: 0.5169\n",
      "Epoch 7/20\n",
      "43/43 [==============================] - 0s 5ms/step - loss: 0.4834 - val_loss: 0.4955\n",
      "Epoch 8/20\n",
      "43/43 [==============================] - 0s 5ms/step - loss: 0.4655 - val_loss: 0.4785\n",
      "Epoch 9/20\n",
      "43/43 [==============================] - 0s 5ms/step - loss: 0.4525 - val_loss: 0.4630\n",
      "Epoch 10/20\n",
      "43/43 [==============================] - 0s 5ms/step - loss: 0.4451 - val_loss: 0.4551\n",
      "Epoch 11/20\n",
      "43/43 [==============================] - 0s 5ms/step - loss: 0.4305 - val_loss: 0.4442\n",
      "Epoch 12/20\n",
      "43/43 [==============================] - 0s 5ms/step - loss: 0.4272 - val_loss: 0.4511\n",
      "Epoch 13/20\n",
      "43/43 [==============================] - 0s 5ms/step - loss: 0.4166 - val_loss: 0.4349\n",
      "Epoch 14/20\n",
      "43/43 [==============================] - 0s 5ms/step - loss: 0.3934 - val_loss: 0.4338\n",
      "Epoch 15/20\n",
      "43/43 [==============================] - 0s 5ms/step - loss: 0.4010 - val_loss: 0.4313\n",
      "Epoch 16/20\n",
      "43/43 [==============================] - 0s 5ms/step - loss: 0.3945 - val_loss: 0.4313\n",
      "Epoch 17/20\n",
      "43/43 [==============================] - 0s 5ms/step - loss: 0.4014 - val_loss: 0.4419\n",
      "Epoch 18/20\n",
      "43/43 [==============================] - 0s 5ms/step - loss: 0.3815 - val_loss: 0.4260\n",
      "Epoch 19/20\n",
      "43/43 [==============================] - 0s 5ms/step - loss: 0.3813 - val_loss: 0.4244\n",
      "Epoch 20/20\n",
      "43/43 [==============================] - 0s 5ms/step - loss: 0.3919 - val_loss: 0.4265\n"
     ]
    },
    {
     "data": {
      "text/plain": [
       "<keras.src.callbacks.History at 0x1d727f3b850>"
      ]
     },
     "execution_count": 49,
     "metadata": {},
     "output_type": "execute_result"
    }
   ],
   "source": [
    "model.fit(X_train,y_train,epochs=20,validation_split=0.2)"
   ]
  },
  {
   "cell_type": "code",
   "execution_count": 50,
   "id": "447df1d6-8599-4545-805d-f97847674ea3",
   "metadata": {},
   "outputs": [
    {
     "name": "stdout",
     "output_type": "stream",
     "text": [
      "14/14 [==============================] - 0s 3ms/step\n"
     ]
    }
   ],
   "source": [
    "y_pred = model.predict(X_test)"
   ]
  },
  {
   "cell_type": "code",
   "execution_count": 51,
   "id": "afcfc901-3319-4dfb-a9a5-c768386fb0ea",
   "metadata": {},
   "outputs": [],
   "source": [
    "y_pred1 = (y_pred > 0.5).astype(int)"
   ]
  },
  {
   "cell_type": "code",
   "execution_count": 52,
   "id": "9458ca95-49de-4b37-831f-2405643b6338",
   "metadata": {},
   "outputs": [],
   "source": [
    "from sklearn.metrics import accuracy_score"
   ]
  },
  {
   "cell_type": "code",
   "execution_count": 53,
   "id": "4cc7001d-f33c-4de3-9373-a1078eb1bde1",
   "metadata": {},
   "outputs": [
    {
     "data": {
      "text/plain": [
       "0.7862232779097387"
      ]
     },
     "execution_count": 53,
     "metadata": {},
     "output_type": "execute_result"
    }
   ],
   "source": [
    "accuracy_score(y_pred1,y_test)"
   ]
  },
  {
   "cell_type": "code",
   "execution_count": 55,
   "id": "f004b498-d1ae-4e6e-9663-003e9ded3b36",
   "metadata": {},
   "outputs": [
    {
     "name": "stdout",
     "output_type": "stream",
     "text": [
      "              precision    recall  f1-score   support\n",
      "\n",
      "         0.0       0.72      0.66      0.69       150\n",
      "         1.0       0.82      0.86      0.84       271\n",
      "\n",
      "    accuracy                           0.79       421\n",
      "   macro avg       0.77      0.76      0.76       421\n",
      "weighted avg       0.78      0.79      0.78       421\n",
      "\n"
     ]
    }
   ],
   "source": [
    "from sklearn.metrics import classification_report\n",
    "\n",
    "# Assuming y_test and y_pred_binary are defined as before\n",
    "print(classification_report(y_test, y_pred1))"
   ]
  },
  {
   "cell_type": "code",
   "execution_count": null,
   "id": "1974ab8f-59a3-4485-bb29-da47a803a0b2",
   "metadata": {},
   "outputs": [],
   "source": []
  }
 ],
 "metadata": {
  "kernelspec": {
   "display_name": "Python 3 (ipykernel)",
   "language": "python",
   "name": "python3"
  },
  "language_info": {
   "codemirror_mode": {
    "name": "ipython",
    "version": 3
   },
   "file_extension": ".py",
   "mimetype": "text/x-python",
   "name": "python",
   "nbconvert_exporter": "python",
   "pygments_lexer": "ipython3",
   "version": "3.11.2"
  }
 },
 "nbformat": 4,
 "nbformat_minor": 5
}
